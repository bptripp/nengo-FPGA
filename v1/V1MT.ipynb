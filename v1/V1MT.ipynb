{
 "cells": [
  {
   "cell_type": "code",
   "execution_count": 1,
   "metadata": {
    "collapsed": false
   },
   "outputs": [],
   "source": [
    "import matplotlib.pyplot as plt\n",
    "import numpy as np\n",
    "import pickle\n",
    "import copy\n",
    "import nengo\n",
    "import nengo_rt_backend\n",
    "%matplotlib inline"
   ]
  },
  {
   "cell_type": "code",
   "execution_count": 2,
   "metadata": {
    "collapsed": false
   },
   "outputs": [],
   "source": [
    "hardware = True\n",
    "\n",
    "model = nengo.Model('Motion', seed=1)"
   ]
  },
  {
   "cell_type": "code",
   "execution_count": 3,
   "metadata": {
    "collapsed": false
   },
   "outputs": [],
   "source": [
    "inputs = pickle.load(open(\"/home/mtrberzi/dot-images-coh1-s02-inputs.p\", \"rb\" ))\n",
    "\n",
    "dt = .001\n",
    "\n",
    "class InputWrapper: \n",
    "    def __init__(self, inputs, index): \n",
    "        self.inputs = inputs\n",
    "        self.index = index\n",
    "    \n",
    "    def __call__(self, t): \n",
    "        step_num = np.round(t/dt)\n",
    "        # clamp to maximum size of array\n",
    "        if step_num >= self.inputs.shape[2]:\n",
    "            step_num = self.inputs.shape[2] - 1 \n",
    "        return self.inputs[self.index,:,step_num] / 20\n",
    "        \n",
    "# n = inputs.shape[0]\n",
    "n = 1\n",
    "\n",
    "input_nodes = []\n",
    "input_probes = []\n",
    "for i in range(n): \n",
    "    wrapper = InputWrapper(inputs, i)\n",
    "    node = nengo.Node(output=wrapper, size_in=0, size_out=inputs.shape[1], label=\"Gabor\"+str(i))\n",
    "    input_nodes.append(node)\n",
    "    # input_probes.append(nengo.Probe(node, 'output'))"
   ]
  },
  {
   "cell_type": "code",
   "execution_count": 4,
   "metadata": {
    "collapsed": false
   },
   "outputs": [],
   "source": [
    "n_dirs = 2 #Number of V1 oscillator directions\n",
    "n_speeds = 3 #Number of V1 oscillator speeds\n",
    "tcs = np.array([65,100,160])*0.001 #Time constants corresponding to the 20... ms half periods in the thesis for speeds\n",
    "# ...except where they don't because using 40 instead of 65 gives an unrepresentable value\n",
    "\n",
    "MT_tau = 0.02\n",
    "\n",
    "def V1_subpopulation():\n",
    "    \"\"\"\n",
    "    This function builds subnets of n_dir x n_speeds populations that need to be connected to the\n",
    "    input of aligned LGN elements in a direction to give them the desired preferred direction. \n",
    "    \"\"\"\n",
    "    #Damped oscillator parameters\n",
    "    freqs = (2*np.pi)/tcs  #frequencies, Rad/s\n",
    "    damp = -.75*freqs #corresponding damping values, 2 is critical damping\n",
    "    V1_tau = 0.02\n",
    "    V1sub=[]\n",
    "    V1sub_probe=[]\n",
    "\n",
    "    for j in range(n_dirs):\n",
    "        cur_pop = []\n",
    "        cur_probe = []\n",
    "        for i in range(n_speeds):\n",
    "            cur_pop.append(nengo.Ensemble(nengo.LIF(500), dimensions=2, label=\"V1_subpopulation_\" + str(i) + \"_\" + str(j)))\n",
    "            A = np.array([[damp[i], freqs[i]], [-freqs[i], damp[i]]])\n",
    "#             A = np.array([[damp[0], freqs[i]], [-freqs[i], damp[0]]]) ###########\n",
    "\n",
    "            #make it an oscillator\n",
    "            c = nengo.Connection(cur_pop[i], cur_pop[i], transform=(V1_tau*A+np.eye(2)), filter=V1_tau) \n",
    "            # cur_probe.append(nengo.Probe(cur_pop[i],'decoded_output', filter=MT_tau)) # set filter=0 to debug nonlinearity \n",
    "        V1sub_probe.append(cur_probe)\n",
    "        V1sub.append(cur_pop)\n",
    "    return V1sub, V1sub_probe\n",
    "\n",
    "def MT_subpopulation():\n",
    "    \"\"\"\n",
    "    Simple group of populations that are meant to prefer different speeds and \n",
    "    directions due to converging input from V1 populations with the same \n",
    "    preferences and tiled spatial receptive fields.\n",
    "    \"\"\"\n",
    "    MTsub=[]\n",
    "    MTsub_probe=[]\n",
    "    \n",
    "    for j in range(n_dirs):\n",
    "        cur_pop = []\n",
    "        cur_probe = []\n",
    "        for i in range(n_speeds):\n",
    "            cur_pop.append(nengo.Ensemble(nengo.LIF(200), dimensions=1, label='MT'+str(j)+str(i)))\n",
    "            cur_probe.append(nengo.Probe(cur_pop[i],'decoded_output', filter=MT_tau))\n",
    "        MTsub_probe.append(cur_probe)\n",
    "        MTsub.append(cur_pop)\n",
    "    return MTsub, MTsub_probe\n",
    "        "
   ]
  },
  {
   "cell_type": "code",
   "execution_count": null,
   "metadata": {
    "collapsed": false
   },
   "outputs": [
    {
     "name": "stdout",
     "output_type": "stream",
     "text": [
      "0\n"
     ]
    }
   ],
   "source": [
    "MT_nodes, MT_probes = MT_subpopulation()\n",
    "\n",
    "def V1_MT_fun(x): \n",
    "    \"\"\"\n",
    "    Nonlinear function of oscillator state to be decoded for MT input. \n",
    "    \"\"\"\n",
    "    direction = np.sqrt(.5) * np.array([-1, 1])    \n",
    "    r = np.dot(x, direction)\n",
    "    return 4*np.maximum(0, r-.4)\n",
    "\n",
    "def passthrough_fun(t, x): \n",
    "    return x\n",
    "\n",
    "V1_nodes = []\n",
    "V1_probes = []\n",
    "V1_nonlin_probes = []\n",
    "for i in range(n): \n",
    "    print(i)\n",
    "    nodes, probes = V1_subpopulation()\n",
    "    V1_nodes.append(nodes)\n",
    "    V1_probes.append(probes)\n",
    "    \n",
    "    # populations that code different speeds differ only in oscillator time constant\n",
    "    # populations that code different directions differ in using left or right gabor\n",
    "    nonlin_probes = [[], []]\n",
    "    for j in range(len(nodes[0])): \n",
    "        transform = [[2,0,-.0],[0,-2,0]] # <-- for bumping the state with input at different phases\n",
    "        nengo.Connection(input_nodes[i], nodes[0][j], transform=transform) \n",
    "        nengo.Connection(nodes[0][j], MT_nodes[0][j], transform=1, function=V1_MT_fun)\n",
    "        dummy = nengo.Node(output=passthrough_fun, size_in=1, size_out=1, label=\"Dummy\")\n",
    "        nengo.Connection(nodes[0][j], dummy, transform=1, function=V1_MT_fun, filter=0)\n",
    "        #nonlin_probes[0].append(nengo.Probe(dummy, 'output'))\n",
    "\n",
    "    for j in range(len(nodes[1])): \n",
    "        transform = [[-.0,0,2],[0,-2,0]]\n",
    "        nengo.Connection(input_nodes[i], nodes[1][j], transform=transform)\n",
    "        nengo.Connection(nodes[1][j], MT_nodes[1][j], transform=1, function=V1_MT_fun)\n",
    "        dummy = nengo.Node(output=passthrough_fun, size_in=1, size_out=1, label=\"Dummy\")\n",
    "        nengo.Connection(nodes[1][j], dummy, transform=1, function=V1_MT_fun, filter=0)\n",
    "        #nonlin_probes[1].append(nengo.Probe(dummy, 'output'))\n",
    "\n",
    "    V1_nonlin_probes.append(nonlin_probes)        "
   ]
  },
  {
   "cell_type": "code",
   "execution_count": null,
   "metadata": {
    "collapsed": false
   },
   "outputs": [
    {
     "name": "stderr",
     "output_type": "stream",
     "text": [
      "WARNING:nengo_rt_backend.builder:clamped unrepresentable value 2.0\n",
      "WARNING:nengo_rt_backend.builder:clamped unrepresentable value 2.0\n",
      "WARNING:nengo_rt_backend.builder:clamped unrepresentable value 2.0\n",
      "WARNING:nengo_rt_backend.builder:clamped unrepresentable value 2.0\n",
      "WARNING:nengo_rt_backend.builder:clamped unrepresentable value 2.0\n",
      "WARNING:nengo_rt_backend.builder:clamped unrepresentable value 2.0\n",
      "WARNING:nengo_rt_backend.builder:clamped unrepresentable value 2.0\n",
      "WARNING:nengo_rt_backend.builder:clamped unrepresentable value 2.0\n",
      "WARNING:nengo_rt_backend.builder:clamped unrepresentable value 2.0\n",
      "WARNING:nengo_rt_backend.builder:clamped unrepresentable value 2.0\n",
      "WARNING:nengo_rt_backend.builder:clamped unrepresentable value 2.0\n",
      "WARNING:nengo_rt_backend.builder:clamped unrepresentable value 2.0\n",
      "WARNING:nengo_rt_backend.builder:clamped unrepresentable value 1.9990234375\n",
      "WARNING:nengo_rt_backend.builder:clamped unrepresentable value 1.9990234375\n"
     ]
    }
   ],
   "source": [
    "if hardware:\n",
    "    sim = nengo_rt_backend.Simulator(model, targetFile=\"/home/mtrberzi/nengo-rt-backend/target_1d2d.xml\")\n",
    "else:\n",
    "    sim = nengo.Simulator(model)\n",
    "print(\"Running simulation\")\n",
    "sim.run(1)"
   ]
  },
  {
   "cell_type": "code",
   "execution_count": null,
   "metadata": {
    "collapsed": false
   },
   "outputs": [],
   "source": [
    "plt.figure(figsize=(4*n_speeds, 4*n_dirs))\n",
    "means = np.zeros((n_dirs, n_speeds))\n",
    "for j in range(n_dirs):\n",
    "    for i in range(n_speeds):\n",
    "        ax = plt.subplot(n_dirs,n_speeds,(j*n_speeds)+i+1)\n",
    "        plt.plot(sim.trange(), sim.data(MT_probes[j][i]))\n",
    "        ax.set_ylim([-2,1.5])\n",
    "        means[j,i] = np.average(sim.data(MT_probes[j][i]))\n",
    "        \n",
    "print(means)"
   ]
  },
  {
   "cell_type": "code",
   "execution_count": null,
   "metadata": {
    "collapsed": false
   },
   "outputs": [],
   "source": [
    "print(means)"
   ]
  },
  {
   "cell_type": "code",
   "execution_count": null,
   "metadata": {
    "collapsed": false
   },
   "outputs": [],
   "source": [
    "# debugging code ... \n",
    "\n",
    "pop_ind = 0\n",
    "\n",
    "plt.figure(figsize=(4*n_speeds, 4*n_dirs))\n",
    "for j in range(n_dirs):\n",
    "    for i in range(n_speeds):\n",
    "        ax = plt.subplot(n_dirs,n_speeds,(j*n_speeds)+i+1)\n",
    "        plt.plot(sim.trange(), sim.data(V1_probes[pop_ind][j][i]))\n",
    "        ax.set_ylim([-1,1])\n",
    "\n",
    "\n",
    "plt.figure(figsize=(4*n_speeds, 4))\n",
    "for j in range(n_dirs):\n",
    "    colours = ('b', 'r')\n",
    "    for i in range(n_speeds):\n",
    "#         ax = plt.subplot(n_dirs,n_speeds,(j*n_speeds)+i+1)\n",
    "        ax = plt.subplot(1,n_speeds,i+1)\n",
    "        plt.plot(sim.data(V1_probes[pop_ind][j][i])[:,0], sim.data(V1_probes[pop_ind][j][i])[:,1], colours[j])\n",
    "        ax.set_xlim([-1,1])\n",
    "        ax.set_ylim([-1,1])\n"
   ]
  },
  {
   "cell_type": "code",
   "execution_count": null,
   "metadata": {
    "collapsed": false
   },
   "outputs": [],
   "source": [
    "# more debugging code ... \n",
    "\n",
    "speed_ind = 0\n",
    "\n",
    "plt.figure(figsize=(6,6))\n",
    "plt.plot(sim.trange(), np.squeeze(sim.data(V1_nonlin_probes[pop_ind][0][speed_ind])), 'b')\n",
    "plt.plot(sim.trange(), np.squeeze(sim.data(V1_nonlin_probes[pop_ind][1][speed_ind])), 'r')\n",
    "                                                            \n",
    "foo = sim.data(V1_probes[pop_ind][1][speed_ind])\n",
    "bar = np.zeros(foo.shape[0])\n",
    "for i in range(foo.shape[0]): \n",
    "    bar[i] = V1_MT_fun(foo[i,:])\n",
    "  \n",
    "plt.plot(sim.trange(), bar, 'r.')\n"
   ]
  },
  {
   "cell_type": "code",
   "execution_count": null,
   "metadata": {
    "collapsed": false
   },
   "outputs": [],
   "source": [
    "foo = np.squeeze(inputs[6,:,0:1000])\n",
    "print(foo.shape)\n",
    "\n",
    "plt.plot(foo.T)"
   ]
  },
  {
   "cell_type": "code",
   "execution_count": null,
   "metadata": {
    "collapsed": true
   },
   "outputs": [],
   "source": []
  }
 ],
 "metadata": {
  "kernelspec": {
   "display_name": "Python 3",
   "language": "python",
   "name": "python3"
  },
  "language_info": {
   "codemirror_mode": {
    "name": "ipython",
    "version": 3
   },
   "file_extension": ".py",
   "mimetype": "text/x-python",
   "name": "python",
   "nbconvert_exporter": "python",
   "pygments_lexer": "ipython3",
   "version": "3.4.0"
  }
 },
 "nbformat": 4,
 "nbformat_minor": 0
}
