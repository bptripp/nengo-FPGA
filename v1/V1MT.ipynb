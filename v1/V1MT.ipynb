{
 "cells": [
  {
   "cell_type": "code",
   "execution_count": 1,
   "metadata": {
    "collapsed": false
   },
   "outputs": [],
   "source": [
    "import matplotlib.pyplot as plt\n",
    "import numpy as np\n",
    "import pickle\n",
    "import copy\n",
    "import nengo\n",
    "import nengo_rt_backend\n",
    "%matplotlib inline"
   ]
  },
  {
   "cell_type": "code",
   "execution_count": 2,
   "metadata": {
    "collapsed": false
   },
   "outputs": [],
   "source": [
    "hardware = True\n",
    "import logging\n",
    "root = logging.getLogger()\n",
    "root.setLevel(logging.DEBUG)\n",
    "\n",
    "model = nengo.Model('Motion', seed=1)"
   ]
  },
  {
   "cell_type": "code",
   "execution_count": 3,
   "metadata": {
    "collapsed": false
   },
   "outputs": [],
   "source": [
    "inputs = pickle.load(open(\"/home/mtrberzi/dot-images-coh1-s02-inputs.p\", \"rb\" ))\n",
    "\n",
    "dt = .001\n",
    "\n",
    "class InputWrapper: \n",
    "    def __init__(self, inputs, index): \n",
    "        self.inputs = inputs\n",
    "        self.index = index\n",
    "    \n",
    "    def __call__(self, t): \n",
    "        step_num = np.round(t/dt)\n",
    "        # clamp to maximum size of array\n",
    "        if step_num >= self.inputs.shape[2]:\n",
    "            step_num = self.inputs.shape[2] - 1 \n",
    "        return self.inputs[self.index,:,step_num] / 19\n",
    "        \n",
    "# n = inputs.shape[0]\n",
    "n = 1\n",
    "\n",
    "input_nodes = []\n",
    "input_probes = []\n",
    "for i in range(n): \n",
    "    wrapper = InputWrapper(inputs, i)\n",
    "    node = nengo.Node(output=wrapper, size_in=0, size_out=inputs.shape[1], label=\"Gabor\"+str(i))\n",
    "    input_nodes.append(node)\n",
    "    # input_probes.append(nengo.Probe(node, 'output'))"
   ]
  },
  {
   "cell_type": "code",
   "execution_count": 4,
   "metadata": {
    "collapsed": false
   },
   "outputs": [],
   "source": [
    "n_dirs = 1 #Number of V1 oscillator directions\n",
    "n_speeds = 2 #Number of V1 oscillator speeds\n",
    "tcs = np.array([65,100,160])*0.001 #Time constants corresponding to the 20... ms half periods in the thesis for speeds\n",
    "# ...except where they don't because using 40 instead of 65 gives an unrepresentable value\n",
    "\n",
    "MT_tau = 0.02\n",
    "\n",
    "def V1_subpopulation():\n",
    "    \"\"\"\n",
    "    This function builds subnets of n_dir x n_speeds populations that need to be connected to the\n",
    "    input of aligned LGN elements in a direction to give them the desired preferred direction. \n",
    "    \"\"\"\n",
    "    #Damped oscillator parameters\n",
    "    freqs = (2*np.pi)/tcs  #frequencies, Rad/s\n",
    "    damp = -.75*freqs #corresponding damping values, 2 is critical damping\n",
    "    V1_tau = 0.02\n",
    "    V1sub=[]\n",
    "    V1sub_probe=[]\n",
    "\n",
    "    for j in range(n_dirs):\n",
    "        cur_pop = []\n",
    "        cur_probe = []\n",
    "        for i in range(n_speeds):\n",
    "            cur_pop.append(nengo.Ensemble(nengo.LIF(500), dimensions=2, label=\"V1_subpopulation_\" + str(i) + \"_\" + str(j)))\n",
    "#            A = np.array([[damp[i], freqs[i]], [-freqs[i], damp[i]]])\n",
    "#            A = np.array([[damp[0], freqs[i]], [-freqs[i], damp[0]]])\n",
    "            A = np.array([[damp[0], freqs[0]], [-freqs[0], damp[0]]])\n",
    "\n",
    "            #make it an oscillator\n",
    "            c = nengo.Connection(cur_pop[i], cur_pop[i], transform=(V1_tau*A+np.eye(2)), filter=V1_tau) \n",
    "            cur_probe.append(nengo.Probe(cur_pop[i],'decoded_output', filter=0)) # set filter=0 to debug nonlinearity \n",
    "        V1sub_probe.append(cur_probe)\n",
    "        V1sub.append(cur_pop)\n",
    "    return V1sub, V1sub_probe\n",
    "\n",
    "def MT_subpopulation():\n",
    "    \"\"\"\n",
    "    Simple group of populations that are meant to prefer different speeds and \n",
    "    directions due to converging input from V1 populations with the same \n",
    "    preferences and tiled spatial receptive fields.\n",
    "    \"\"\"\n",
    "    MTsub=[]\n",
    "    MTsub_probe=[]\n",
    "    \n",
    "    for j in range(n_dirs):\n",
    "        cur_pop = []\n",
    "        cur_probe = []\n",
    "        for i in range(n_speeds):\n",
    "            cur_pop.append(nengo.Ensemble(nengo.LIF(200), dimensions=1, label='MT'+str(j)+str(i)))\n",
    "            cur_probe.append(nengo.Probe(cur_pop[i],'decoded_output', filter=MT_tau))\n",
    "        MTsub_probe.append(cur_probe)\n",
    "        MTsub.append(cur_pop)\n",
    "    return MTsub, MTsub_probe\n",
    "        "
   ]
  },
  {
   "cell_type": "code",
   "execution_count": 5,
   "metadata": {
    "collapsed": false
   },
   "outputs": [
    {
     "name": "stdout",
     "output_type": "stream",
     "text": [
      "0\n"
     ]
    }
   ],
   "source": [
    "MT_nodes, MT_probes = MT_subpopulation()\n",
    "\n",
    "def V1_MT_fun(x): \n",
    "    \"\"\"\n",
    "    Nonlinear function of oscillator state to be decoded for MT input. \n",
    "    \"\"\"\n",
    "    direction = np.sqrt(.5) * np.array([-1, 1])    \n",
    "    r = np.dot(x, direction)\n",
    "    return 4*np.maximum(0, r-.4)\n",
    "\n",
    "def passthrough_fun(t, x): \n",
    "    return x\n",
    "\n",
    "V1_nodes = []\n",
    "V1_probes = []\n",
    "V1_nonlin_probes = []\n",
    "for i in range(n): \n",
    "    print(i)\n",
    "    nodes, probes = V1_subpopulation()\n",
    "    V1_nodes.append(nodes)\n",
    "    V1_probes.append(probes)\n",
    "    \n",
    "    # populations that code different speeds differ only in oscillator time constant\n",
    "    # populations that code different directions differ in using left or right gabor\n",
    "    nonlin_probes = [[], []]\n",
    "    for j in range(len(nodes[0])): \n",
    "        transform = [[1.9,0,-.0],[0,-1.9,0]] # <-- for bumping the state with input at different phases\n",
    "        nengo.Connection(input_nodes[i], nodes[0][j], transform=transform) \n",
    "        #nengo.Connection(nodes[0][j], MT_nodes[0][j], transform=1, function=V1_MT_fun)\n",
    "        \n",
    "        #dummy = nengo.Node(output=passthrough_fun, size_in=1, size_out=1, label=\"Dummy\")\n",
    "        #nengo.Connection(nodes[0][j], dummy, transform=1, function=V1_MT_fun, filter=0)\n",
    "        #nonlin_probes[0].append(nengo.Probe(dummy, 'output'))\n",
    "\n",
    "    # disabled to test single V1 population...\n",
    "    #for j in range(len(nodes[1])): \n",
    "    #    transform = [[-.0,0,1.9],[0,-1.9,0]]\n",
    "    #    nengo.Connection(input_nodes[i], nodes[1][j], transform=transform)\n",
    "    \n",
    "        #nengo.Connection(nodes[1][j], MT_nodes[1][j], transform=1, function=V1_MT_fun)\n",
    "        \n",
    "        #dummy = nengo.Node(output=passthrough_fun, size_in=1, size_out=1, label=\"Dummy\")\n",
    "        #nengo.Connection(nodes[1][j], dummy, transform=1, function=V1_MT_fun, filter=0)\n",
    "        #nonlin_probes[1].append(nengo.Probe(dummy, 'output'))\n",
    "\n",
    "    V1_nonlin_probes.append(nonlin_probes)        "
   ]
  },
  {
   "cell_type": "code",
   "execution_count": 6,
   "metadata": {
    "collapsed": false,
    "scrolled": false
   },
   "outputs": [
    {
     "name": "stderr",
     "output_type": "stream",
     "text": [
      "INFO:nengo.builder:Building objects\n",
      "DEBUG:root:Setting gain and bias on <LIF140530803941784>\n",
      "DEBUG:root:Setting gain and bias on <LIF140530803022760>\n",
      "DEBUG:root:Setting gain and bias on <LIF140530802677464>\n",
      "DEBUG:root:Setting gain and bias on <LIF140530802677744>\n",
      "INFO:nengo.builder:Building probes\n",
      "INFO:nengo.builder:Building connections\n",
      "INFO:nengo_rt_backend.builder:Collecting populations and nodes\n",
      "DEBUG:nengo_rt_backend.builder:Collected 4 populations and 1 nodes\n",
      "INFO:nengo_rt_backend.builder:Separating 1D and 2D populations\n",
      "DEBUG:nengo_rt_backend.builder:Separated into 2 1D populations and 2 2D populations\n",
      "INFO:nengo_rt_backend.builder:Collecting probes\n",
      "DEBUG:nengo_rt_backend.builder:Collected 4 probes\n",
      "INFO:nengo_rt_backend.builder:Collecting connections\n",
      "DEBUG:nengo_rt_backend.builder:Collected 8 connections\n",
      "INFO:nengo_rt_backend.builder:Building populations\n",
      "DEBUG:nengo_rt_backend.builder:Building ensemble MT00\n",
      "DEBUG:nengo_rt_backend.builder:Calculating principal components\n",
      "DEBUG:nengo_rt_backend.builder:Building ensemble MT01\n",
      "DEBUG:nengo_rt_backend.builder:Calculating principal components\n",
      "DEBUG:nengo_rt_backend.builder:Building ensemble V1_subpopulation_0_0\n",
      "DEBUG:nengo_rt_backend.builder:Calculating principal components\n",
      "DEBUG:nengo_rt_backend.builder:Building ensemble V1_subpopulation_1_0\n",
      "DEBUG:nengo_rt_backend.builder:Calculating principal components\n",
      "INFO:nengo_rt_backend.builder:Building nodes\n",
      "INFO:nengo_rt_backend.builder:Building probes\n",
      "INFO:nengo_rt_backend.builder:Building connections\n",
      "DEBUG:nengo_rt_backend.builder:Building connection MT00>Probe(MT00.decoded_output)\n",
      "DEBUG:nengo_rt_backend.builder:Decoders for MT00>Probe(MT00.decoded_output): \n",
      "[[  7.55112640e-01+0.j   1.84399580e+01+0.j   1.11441205e-01+0.j\n",
      "    5.85397622e-01+0.j   3.15363545e-01+0.j  -2.78993451e-01+0.j\n",
      "    6.48925325e-03+0.j]]\n",
      "DEBUG:nengo_rt_backend.builder:Building connection MT01>Probe(MT01.decoded_output)\n",
      "DEBUG:nengo_rt_backend.builder:Decoders for MT01>Probe(MT01.decoded_output): \n",
      "[[ -2.41658117+0.j -18.29667920+0.j  -0.27954186+0.j  -0.54355626+0.j\n",
      "    0.10897082+0.j  -0.32740620+0.j   0.18305051+0.j]]\n",
      "DEBUG:nengo_rt_backend.builder:Building connection V1_subpopulation_0_0>V1_subpopulation_0_0\n",
      "DEBUG:nengo_rt_backend.builder:Decoders for V1_subpopulation_0_0>V1_subpopulation_0_0: \n",
      "[[  1.10865299e+00+0.j  -5.62461407e+00+0.j   9.72678101e+00+0.j\n",
      "   -1.30946371e-01+0.j  -4.66310483e-01+0.j   2.95466139e-01+0.j\n",
      "   -2.37972783e-01+0.j   1.83547732e-01+0.j  -1.94360122e-01+0.j\n",
      "    5.09592524e-02+0.j  -4.16885824e-02+0.j   7.13939809e-02+0.j\n",
      "   -4.98548609e-02+0.j   9.19786432e-02+0.j  -4.25922452e-02+0.j]\n",
      " [  1.51603916e+00+0.j  -9.66665569e+00+0.j  -5.70224775e+00+0.j\n",
      "   -1.82255830e-01+0.j   1.71716813e-01+0.j   3.41436024e-03+0.j\n",
      "   -1.78559947e-01+0.j  -8.90035831e-03+0.j   2.69877734e-02+0.j\n",
      "   -1.86652983e-01+0.j   2.59777069e-03+0.j  -4.84620901e-02+0.j\n",
      "   -2.13794474e-03+0.j   7.02519759e-02+0.j  -1.62986149e-02+0.j]]\n",
      "DEBUG:nengo_rt_backend.builder:Building connection V1_subpopulation_0_0>Probe(V1_subpopulation_0_0.decoded_output)\n",
      "DEBUG:nengo_rt_backend.builder:Decoders for V1_subpopulation_0_0>Probe(V1_subpopulation_0_0.decoded_output): \n",
      "[[  1.10865299e+00+0.j  -5.62461407e+00+0.j   9.72678101e+00+0.j\n",
      "   -1.30946371e-01+0.j  -4.66310483e-01+0.j   2.95466139e-01+0.j\n",
      "   -2.37972783e-01+0.j   1.83547732e-01+0.j  -1.94360122e-01+0.j\n",
      "    5.09592524e-02+0.j  -4.16885824e-02+0.j   7.13939809e-02+0.j\n",
      "   -4.98548609e-02+0.j   9.19786432e-02+0.j  -4.25922452e-02+0.j]\n",
      " [  1.51603916e+00+0.j  -9.66665569e+00+0.j  -5.70224775e+00+0.j\n",
      "   -1.82255830e-01+0.j   1.71716813e-01+0.j   3.41436024e-03+0.j\n",
      "   -1.78559947e-01+0.j  -8.90035831e-03+0.j   2.69877734e-02+0.j\n",
      "   -1.86652983e-01+0.j   2.59777069e-03+0.j  -4.84620901e-02+0.j\n",
      "   -2.13794474e-03+0.j   7.02519759e-02+0.j  -1.62986149e-02+0.j]]\n",
      "DEBUG:nengo_rt_backend.builder:Building connection V1_subpopulation_1_0>V1_subpopulation_1_0\n",
      "DEBUG:nengo_rt_backend.builder:Decoders for V1_subpopulation_1_0>V1_subpopulation_1_0: \n",
      "[[  1.52041001e+00+0.j  -1.08371992e+01+0.j  -2.93558592e+00+0.j\n",
      "   -3.30462879e-01+0.j  -5.03051310e-02+0.j  -1.38100608e-01+0.j\n",
      "    2.76055249e-01+0.j   6.68375491e-02+0.j   2.10226434e-01+0.j\n",
      "    6.42298203e-02+0.j   4.91204184e-02+0.j   1.33908448e-02+0.j\n",
      "    2.29244552e-03+0.j   1.73285597e-02+0.j   7.62710399e-02+0.j]\n",
      " [  1.27386555e+00+0.j  -2.78846326e+00+0.j   1.08946449e+01+0.j\n",
      "   -4.59743112e-01+0.j   8.99739198e-02+0.j  -8.35774434e-02+0.j\n",
      "   -1.21947700e-01+0.j  -2.77317224e-01+0.j  -2.12689063e-03+0.j\n",
      "    7.94371539e-02+0.j   5.79464381e-02+0.j   2.77455811e-02+0.j\n",
      "   -1.36790512e-02+0.j  -3.53339249e-02+0.j  -9.88416458e-03+0.j]]\n",
      "DEBUG:nengo_rt_backend.builder:Building connection V1_subpopulation_1_0>Probe(V1_subpopulation_1_0.decoded_output)\n",
      "DEBUG:nengo_rt_backend.builder:Decoders for V1_subpopulation_1_0>Probe(V1_subpopulation_1_0.decoded_output): \n",
      "[[  1.52041001e+00+0.j  -1.08371992e+01+0.j  -2.93558592e+00+0.j\n",
      "   -3.30462879e-01+0.j  -5.03051310e-02+0.j  -1.38100608e-01+0.j\n",
      "    2.76055249e-01+0.j   6.68375491e-02+0.j   2.10226434e-01+0.j\n",
      "    6.42298203e-02+0.j   4.91204184e-02+0.j   1.33908448e-02+0.j\n",
      "    2.29244552e-03+0.j   1.73285597e-02+0.j   7.62710399e-02+0.j]\n",
      " [  1.27386555e+00+0.j  -2.78846326e+00+0.j   1.08946449e+01+0.j\n",
      "   -4.59743112e-01+0.j   8.99739198e-02+0.j  -8.35774434e-02+0.j\n",
      "   -1.21947700e-01+0.j  -2.77317224e-01+0.j  -2.12689063e-03+0.j\n",
      "    7.94371539e-02+0.j   5.79464381e-02+0.j   2.77455811e-02+0.j\n",
      "   -1.36790512e-02+0.j  -3.53339249e-02+0.j  -9.88416458e-03+0.j]]\n",
      "DEBUG:nengo_rt_backend.builder:Building connection Gabor0>V1_subpopulation_0_0\n",
      "DEBUG:nengo_rt_backend.builder:Building connection Gabor0>V1_subpopulation_1_0\n",
      "INFO:nengo_rt_backend.builder:Verifying feasibility of incoming connection filters\n",
      "DEBUG:nengo_rt_backend.builder:Filter time constants for MT00: []\n",
      "DEBUG:nengo_rt_backend.builder:Filter time constants for MT01: []\n",
      "DEBUG:nengo_rt_backend.builder:Filter time constants for V1_subpopulation_0_0: [0.02, 0.005]\n",
      "DEBUG:nengo_rt_backend.builder:Filter time constants for V1_subpopulation_1_0: [0.02, 0.005]\n",
      "INFO:nengo_rt_backend.builder:Targeting device with 1 one-dimensional populations and 1 two-dimensional populations\n",
      "INFO:nengo_rt_backend.builder:Clustering 1D population groups\n",
      "DEBUG:nengo_rt_backend.builder:Maximum distance is 1.69206707584\n",
      "DEBUG:nengo_rt_backend.builder:Minimum non-zero distance is 1.69206707584\n",
      "DEBUG:nengo_rt_backend.builder:Average non-zero distance is 1.69206707584\n",
      "INFO:nengo_rt_backend.builder:1 clusters formed\n",
      "DEBUG:nengo_rt_backend.builder:1D population cluster sizes: \n",
      "[2]\n",
      "INFO:nengo_rt_backend.builder:Calculating clustered 1D principal components\n",
      "DEBUG:nengo_rt_backend.builder:Selected population #0( MT00) as candidate\n",
      "DEBUG:nengo_rt_backend.builder:Scale factor for candidate's 0-order component: 46.0586891945\n",
      "DEBUG:nengo_rt_backend.builder:Scale factor for candidate's 1-order component: 32.4816169199\n",
      "DEBUG:nengo_rt_backend.builder:Scale factor for candidate's 2-order component: 23.5952113088\n",
      "DEBUG:nengo_rt_backend.builder:Scale factor for candidate's 3-order component: 17.1706483609\n",
      "DEBUG:nengo_rt_backend.builder:Scale factor for candidate's 4-order component: 14.4368885764\n",
      "DEBUG:nengo_rt_backend.builder:Scale factor for candidate's 5-order component: 13.3953408597\n",
      "DEBUG:nengo_rt_backend.builder:Scale factor for candidate's 6-order component: 11.7736778081\n",
      "INFO:nengo_rt_backend.builder:Collecting filter coefficients for 1D clusters\n",
      "INFO:nengo_rt_backend.builder:Calculating decoders for connections leaving 1D populations\n",
      "DEBUG:nengo_rt_backend.builder:Scaling populations on unit 0 with scale factor [46.058689194457472, 32.481616919879613, 23.595211308764018, 17.170648360880605, 14.43688857640212, 13.395340859653137, 11.773677808121892]\n",
      "DEBUG:nengo_rt_backend.builder:recalculated decoders for MT00>Probe(MT00.decoded_output): \n",
      "DEBUG:nengo_rt_backend.builder:[[  7.55112640e-01   1.84399580e+01   1.11441205e-01   5.85397622e-01\n",
      "    3.15363545e-01  -2.78993451e-01   6.48925325e-03]]\n",
      "DEBUG:nengo_rt_backend.builder:scaled decoders for MT00>Probe(MT00.decoded_output): \n",
      "DEBUG:nengo_rt_backend.builder:[[  1.63945751e-02   5.67704435e-01   4.72304333e-03   3.40929247e-02\n",
      "    2.18442875e-02  -2.08276485e-02   5.51166199e-04]]\n",
      "DEBUG:nengo_rt_backend.builder:addresses for MT00>Probe(MT00.decoded_output) are [0]\n",
      "DEBUG:nengo_rt_backend.builder:recalculated decoders for MT01>Probe(MT01.decoded_output): \n",
      "DEBUG:nengo_rt_backend.builder:[[  7.58910798e-01   1.84476431e+01   1.15298111e-01   5.93546999e-01\n",
      "    3.15640004e-01  -2.66539760e-01   3.02604557e-03]]\n",
      "DEBUG:nengo_rt_backend.builder:scaled decoders for MT01>Probe(MT01.decoded_output): \n",
      "DEBUG:nengo_rt_backend.builder:[[  1.64770386e-02   5.67941035e-01   4.88650469e-03   3.45675356e-02\n",
      "    2.18634370e-02  -1.98979453e-02   2.57017868e-04]]\n",
      "DEBUG:nengo_rt_backend.builder:addresses for MT01>Probe(MT01.decoded_output) are [1]\n",
      "INFO:nengo_rt_backend.builder:Clustering 2D population groups\n",
      "DEBUG:nengo_rt_backend.builder:Maximum distance is 13.8762796145\n",
      "DEBUG:nengo_rt_backend.builder:Minimum non-zero distance is 13.8762796145\n",
      "DEBUG:nengo_rt_backend.builder:Average non-zero distance is 13.8762796145\n",
      "INFO:nengo_rt_backend.builder:1 clusters formed\n",
      "DEBUG:nengo_rt_backend.builder:2D population cluster sizes: \n",
      "[2]\n",
      "INFO:nengo_rt_backend.builder:Calculating clustered 2D principal components\n",
      "DEBUG:nengo_rt_backend.builder:Selected population #0 (V1_subpopulation_0_0) as candidate\n",
      "DEBUG:nengo_rt_backend.builder:Scale factor for candidate's 0-order component: 30.1033115403\n",
      "DEBUG:nengo_rt_backend.builder:Scale factor for candidate's 1-order component: 16.1400657875\n",
      "DEBUG:nengo_rt_backend.builder:Scale factor for candidate's 2-order component: 14.9839720793\n",
      "DEBUG:nengo_rt_backend.builder:Scale factor for candidate's 3-order component: 13.7618474812\n",
      "DEBUG:nengo_rt_backend.builder:Scale factor for candidate's 4-order component: 10.137277642\n",
      "DEBUG:nengo_rt_backend.builder:Scale factor for candidate's 5-order component: 15.265894585\n",
      "DEBUG:nengo_rt_backend.builder:Scale factor for candidate's 6-order component: 10.4481417596\n",
      "DEBUG:nengo_rt_backend.builder:Scale factor for candidate's 7-order component: 11.1477993391\n",
      "DEBUG:nengo_rt_backend.builder:Scale factor for candidate's 8-order component: 10.2343414854\n",
      "DEBUG:nengo_rt_backend.builder:Scale factor for candidate's 9-order component: 8.08360822121\n",
      "DEBUG:nengo_rt_backend.builder:Scale factor for candidate's 10-order component: 14.1634288581\n",
      "DEBUG:nengo_rt_backend.builder:Scale factor for candidate's 11-order component: 11.3853127836\n",
      "DEBUG:nengo_rt_backend.builder:Scale factor for candidate's 12-order component: 14.6098439173\n",
      "DEBUG:nengo_rt_backend.builder:Scale factor for candidate's 13-order component: 8.73747055393\n",
      "DEBUG:nengo_rt_backend.builder:Scale factor for candidate's 14-order component: 8.25348531247\n",
      "INFO:nengo_rt_backend.builder:Collecting filter coefficients for 2D clusters\n",
      "INFO:nengo_rt_backend.builder:Calculating decoders for connections leaving 2D populations\n",
      "DEBUG:nengo_rt_backend.builder:Scaling populations on unit 95 with scale factor [30.103311540345967, 16.140065787460241, 14.983972079292235, 13.761847481195238, 10.137277642033776, 15.265894584998863, 10.448141759638334, 11.14779933910792, 10.234341485405272, 8.0836082212106746, 14.16342885809712, 11.385312783587992, 14.609843917279793, 8.7374705539264124, 8.2534853124702181]\n",
      "DEBUG:nengo_rt_backend.builder:old decoders for V1_subpopulation_0_0>V1_subpopulation_0_0: \n",
      "DEBUG:nengo_rt_backend.builder:[[  1.10865299e+00  -5.62461407e+00   9.72678101e+00  -1.30946371e-01\n",
      "   -4.66310483e-01   2.95466139e-01  -2.37972783e-01   1.83547732e-01\n",
      "   -1.94360122e-01   5.09592524e-02  -4.16885824e-02   7.13939809e-02\n",
      "   -4.98548609e-02   9.19786432e-02  -4.25922452e-02]\n",
      " [  1.51603916e+00  -9.66665569e+00  -5.70224775e+00  -1.82255830e-01\n",
      "    1.71716813e-01   3.41436024e-03  -1.78559947e-01  -8.90035831e-03\n",
      "    2.69877734e-02  -1.86652983e-01   2.59777069e-03  -4.84620901e-02\n",
      "   -2.13794474e-03   7.02519759e-02  -1.62986149e-02]]\n",
      "DEBUG:nengo_rt_backend.builder:new decoders for V1_subpopulation_0_0>V1_subpopulation_0_0: \n",
      "DEBUG:nengo_rt_backend.builder:[[  3.68282735e-02  -3.48487679e-01   6.49145698e-01  -9.51517383e-03\n",
      "   -4.59995770e-02   1.93546560e-02  -2.27765653e-02   1.64649296e-02\n",
      "   -1.89909749e-02   6.30402304e-03  -2.94339618e-03   6.27070879e-03\n",
      "   -3.41241571e-03   1.05269188e-02  -5.16051626e-03]\n",
      " [  5.03612088e-02  -5.98922942e-01  -3.80556485e-01  -1.32435583e-02\n",
      "    1.69391448e-02   2.23659362e-04  -1.70901152e-02  -7.98395992e-04\n",
      "    2.63698192e-03  -2.30903054e-02   1.83413968e-04  -4.25654446e-03\n",
      "   -1.46335905e-04   8.04031046e-03  -1.97475542e-03]]\n",
      "DEBUG:nengo_rt_backend.builder:addresses for V1_subpopulation_0_0>V1_subpopulation_0_0 are [389120, 390144]\n",
      "DEBUG:nengo_rt_backend.builder:old decoders for V1_subpopulation_0_0>Probe(V1_subpopulation_0_0.decoded_output): \n",
      "DEBUG:nengo_rt_backend.builder:[[  1.10865299e+00  -5.62461407e+00   9.72678101e+00  -1.30946371e-01\n",
      "   -4.66310483e-01   2.95466139e-01  -2.37972783e-01   1.83547732e-01\n",
      "   -1.94360122e-01   5.09592524e-02  -4.16885824e-02   7.13939809e-02\n",
      "   -4.98548609e-02   9.19786432e-02  -4.25922452e-02]\n",
      " [  1.51603916e+00  -9.66665569e+00  -5.70224775e+00  -1.82255830e-01\n",
      "    1.71716813e-01   3.41436024e-03  -1.78559947e-01  -8.90035831e-03\n",
      "    2.69877734e-02  -1.86652983e-01   2.59777069e-03  -4.84620901e-02\n",
      "   -2.13794474e-03   7.02519759e-02  -1.62986149e-02]]\n",
      "DEBUG:nengo_rt_backend.builder:new decoders for V1_subpopulation_0_0>Probe(V1_subpopulation_0_0.decoded_output): \n",
      "DEBUG:nengo_rt_backend.builder:[[  3.68282735e-02  -3.48487679e-01   6.49145698e-01  -9.51517383e-03\n",
      "   -4.59995770e-02   1.93546560e-02  -2.27765653e-02   1.64649296e-02\n",
      "   -1.89909749e-02   6.30402304e-03  -2.94339618e-03   6.27070879e-03\n",
      "   -3.41241571e-03   1.05269188e-02  -5.16051626e-03]\n",
      " [  5.03612088e-02  -5.98922942e-01  -3.80556485e-01  -1.32435583e-02\n",
      "    1.69391448e-02   2.23659362e-04  -1.70901152e-02  -7.98395992e-04\n",
      "    2.63698192e-03  -2.30903054e-02   1.83413968e-04  -4.25654446e-03\n",
      "   -1.46335905e-04   8.04031046e-03  -1.97475542e-03]]\n",
      "DEBUG:nengo_rt_backend.builder:addresses for V1_subpopulation_0_0>Probe(V1_subpopulation_0_0.decoded_output) are [391168, 392192]\n",
      "DEBUG:nengo_rt_backend.builder:old decoders for V1_subpopulation_1_0>V1_subpopulation_1_0: \n",
      "DEBUG:nengo_rt_backend.builder:[[  1.10435902e+00  -5.61198448e+00   9.72545149e+00  -1.53975255e-01\n",
      "   -4.75744225e-01   2.82400402e-01  -2.45170586e-01   1.83326539e-01\n",
      "   -2.00087352e-01   5.37468297e-02  -5.37752353e-02   6.90907107e-02\n",
      "   -4.49502931e-02   9.29484590e-02  -3.52293437e-02]\n",
      " [  1.52067602e+00  -9.66114875e+00  -5.71467823e+00  -1.99122513e-01\n",
      "    1.91966817e-01  -7.35326930e-03  -1.66966692e-01  -3.64416870e-02\n",
      "    1.61745344e-02  -1.84979054e-01   3.35774623e-03  -3.28767847e-02\n",
      "    1.66775431e-02   7.29525769e-02  -1.74200577e-02]]\n",
      "DEBUG:nengo_rt_backend.builder:new decoders for V1_subpopulation_1_0>V1_subpopulation_1_0: \n",
      "DEBUG:nengo_rt_backend.builder:[[  3.66856323e-02  -3.47705180e-01   6.49056968e-01  -1.11885599e-02\n",
      "   -4.69301762e-02   1.84987784e-02  -2.34654728e-02   1.64450878e-02\n",
      "   -1.95505839e-02   6.64886623e-03  -3.79676672e-03   6.06840691e-03\n",
      "   -3.07671275e-03   1.06379138e-02  -4.26842023e-03]\n",
      " [  5.05152404e-02  -5.98581745e-01  -3.81386070e-01  -1.44691702e-02\n",
      "    1.89367228e-02  -4.81679554e-04  -1.59805155e-02  -3.26895793e-03\n",
      "    1.58041770e-03  -2.28832285e-02   2.37071564e-04  -2.88764879e-03\n",
      "    1.14152781e-03   8.34939316e-03  -2.11063048e-03]]\n",
      "DEBUG:nengo_rt_backend.builder:addresses for V1_subpopulation_1_0>V1_subpopulation_1_0 are [389121, 390145]\n",
      "DEBUG:nengo_rt_backend.builder:old decoders for V1_subpopulation_1_0>Probe(V1_subpopulation_1_0.decoded_output): \n",
      "DEBUG:nengo_rt_backend.builder:[[  1.10435902e+00  -5.61198448e+00   9.72545149e+00  -1.53975255e-01\n",
      "   -4.75744225e-01   2.82400402e-01  -2.45170586e-01   1.83326539e-01\n",
      "   -2.00087352e-01   5.37468297e-02  -5.37752353e-02   6.90907107e-02\n",
      "   -4.49502931e-02   9.29484590e-02  -3.52293437e-02]\n",
      " [  1.52067602e+00  -9.66114875e+00  -5.71467823e+00  -1.99122513e-01\n",
      "    1.91966817e-01  -7.35326930e-03  -1.66966692e-01  -3.64416870e-02\n",
      "    1.61745344e-02  -1.84979054e-01   3.35774623e-03  -3.28767847e-02\n",
      "    1.66775431e-02   7.29525769e-02  -1.74200577e-02]]\n",
      "DEBUG:nengo_rt_backend.builder:new decoders for V1_subpopulation_1_0>Probe(V1_subpopulation_1_0.decoded_output): \n",
      "DEBUG:nengo_rt_backend.builder:[[  3.66856323e-02  -3.47705180e-01   6.49056968e-01  -1.11885599e-02\n",
      "   -4.69301762e-02   1.84987784e-02  -2.34654728e-02   1.64450878e-02\n",
      "   -1.95505839e-02   6.64886623e-03  -3.79676672e-03   6.06840691e-03\n",
      "   -3.07671275e-03   1.06379138e-02  -4.26842023e-03]\n",
      " [  5.05152404e-02  -5.98581745e-01  -3.81386070e-01  -1.44691702e-02\n",
      "    1.89367228e-02  -4.81679554e-04  -1.59805155e-02  -3.26895793e-03\n",
      "    1.58041770e-03  -2.28832285e-02   2.37071564e-04  -2.88764879e-03\n",
      "    1.14152781e-03   8.34939316e-03  -2.11063048e-03]]\n",
      "DEBUG:nengo_rt_backend.builder:addresses for V1_subpopulation_1_0>Probe(V1_subpopulation_1_0.decoded_output) are [391169, 392193]\n",
      "INFO:nengo_rt_backend.builder:Assigning input addresses to nodes\n",
      "DEBUG:nengo_rt_backend.builder:Input space begins at address 393216, maximum of 2048 inputs available\n",
      "DEBUG:nengo_rt_backend.builder:node Gabor0 is a state-invariant 3-dimensional function\n",
      "DEBUG:nengo_rt_backend.builder:Node Gabor0 input addresses: [393216, 393217, 393218]\n",
      "INFO:nengo_rt_backend.builder:total of 3 inputs in this model\n",
      "DEBUG:nengo_rt_backend.builder:input address range is 393216 to 393218\n",
      "INFO:nengo_rt_backend.builder:Calculating encoders for 1-D populations\n",
      "DEBUG:nengo_rt_backend.builder:population MT00 encoders by filter:\n",
      "DEBUG:nengo_rt_backend.builder:encoder 0 (filter=0.0):\n",
      "DEBUG:nengo_rt_backend.builder:[]\n",
      "DEBUG:nengo_rt_backend.builder:encoder 1 (filter=0.0):\n",
      "DEBUG:nengo_rt_backend.builder:[]\n",
      "DEBUG:nengo_rt_backend.builder:population MT01 encoders by filter:\n",
      "DEBUG:nengo_rt_backend.builder:encoder 0 (filter=0.0):\n",
      "DEBUG:nengo_rt_backend.builder:[]\n",
      "DEBUG:nengo_rt_backend.builder:encoder 1 (filter=0.0):\n",
      "DEBUG:nengo_rt_backend.builder:[]\n",
      "INFO:nengo_rt_backend.builder:Calculating encoders for 2-D populations\n",
      "DEBUG:nengo_rt_backend.builder:Generating connection encoders for V1_subpopulation_0_0>V1_subpopulation_0_0\n",
      "DEBUG:nengo_rt_backend.builder:Generating connection encoders for Gabor0>V1_subpopulation_0_0\n",
      "DEBUG:nengo_rt_backend.builder:population V1_subpopulation_0_0 encoders by filter:\n",
      "DEBUG:nengo_rt_backend.builder:encoder 0 (filter=0.02):\n",
      "DEBUG:nengo_rt_backend.builder:[(389120, -0.44996584011836616), (390144, 1.9332877868244882)]\n",
      "DEBUG:nengo_rt_backend.builder:encoder 1 (filter=0.005):\n",
      "DEBUG:nengo_rt_backend.builder:[(393216, 1.8999999999999999)]\n",
      "DEBUG:nengo_rt_backend.builder:encoder 2 (filter=0.02):\n",
      "DEBUG:nengo_rt_backend.builder:[(389120, -1.9332877868244882), (390144, -0.44996584011836616)]\n",
      "DEBUG:nengo_rt_backend.builder:encoder 3 (filter=0.005):\n",
      "DEBUG:nengo_rt_backend.builder:[(393217, -1.8999999999999999)]\n",
      "DEBUG:nengo_rt_backend.builder:Generating connection encoders for V1_subpopulation_1_0>V1_subpopulation_1_0\n",
      "DEBUG:nengo_rt_backend.builder:Generating connection encoders for Gabor0>V1_subpopulation_1_0\n",
      "DEBUG:nengo_rt_backend.builder:population V1_subpopulation_1_0 encoders by filter:\n",
      "DEBUG:nengo_rt_backend.builder:encoder 0 (filter=0.02):\n",
      "DEBUG:nengo_rt_backend.builder:[(389121, -0.44996584011836616), (390145, 1.9332877868244882)]\n",
      "DEBUG:nengo_rt_backend.builder:encoder 1 (filter=0.005):\n",
      "DEBUG:nengo_rt_backend.builder:[(393216, 1.8999999999999999)]\n",
      "DEBUG:nengo_rt_backend.builder:encoder 2 (filter=0.02):\n",
      "DEBUG:nengo_rt_backend.builder:[(389121, -1.9332877868244882), (390145, -0.44996584011836616)]\n",
      "DEBUG:nengo_rt_backend.builder:encoder 3 (filter=0.005):\n",
      "DEBUG:nengo_rt_backend.builder:[(393217, -1.8999999999999999)]\n",
      "INFO:nengo_rt_backend.builder:starting optimization of encoder schedules\n",
      "DEBUG:nengo_rt_backend.builder:optimizing over timeslice #0...\n",
      "INFO:nengo_rt_backend.scheduler:trivial schedule\n",
      "INFO:nengo_rt_backend.scheduler:using TrivialOptimizer\n",
      "DEBUG:nengo_rt_backend.builder:optimizing over timeslice #1...\n",
      "INFO:nengo_rt_backend.scheduler:trivial schedule\n",
      "INFO:nengo_rt_backend.scheduler:using TrivialOptimizer\n",
      "INFO:nengo_rt_backend.builder:writing loadfile Motion, dt=0.001000-2015-06-02_15:25:41.704654.nengo-rt for target\n",
      "INFO:nengo_rt_backend.builder:writing decoded value buffer initial values...\n",
      "INFO:nengo_rt_backend.builder:writing encoder instruction buffers...\n",
      "INFO:nengo_rt_backend.builder:writing filter coefficients...\n",
      "INFO:nengo_rt_backend.builder:writing LFSR seeds...\n",
      "INFO:nengo_rt_backend.builder:writing principal component lookup tables...\n",
      "WARNING:nengo_rt_backend.builder:clamped unrepresentable value 1.9990234375\n",
      "WARNING:nengo_rt_backend.builder:clamped unrepresentable value 1.9990234375\n",
      "INFO:nengo_rt_backend.builder:writing decoder circular buffers...\n",
      "INFO:nengo_rt_backend.builder:writing output channel instruction buffers...\n",
      "DEBUG:nengo_rt_backend.builder:Probes at addresses {0, 1, 391168, 392192, 391169, 392193}\n",
      "INFO:nengo_rt_backend.builder:finished writing loadfile\n"
     ]
    },
    {
     "name": "stdout",
     "output_type": "stream",
     "text": [
      "Building hardware model\n",
      "Running simulation"
     ]
    },
    {
     "name": "stderr",
     "output_type": "stream",
     "text": [
      "INFO:nengo_rt_backend.simulator:programming...\n",
      "DEBUG:nengo_rt_backend.controller:programming 000A35028FC0 via eth1\n",
      "DEBUG:nengo_rt_backend.controller:local MAC address on device is f81a6703a072\n",
      "INFO:nengo_rt_backend.controller:transmitting loadfile\n",
      "INFO:nengo_rt_backend.controller:finished sending loadfile\n",
      "INFO:nengo_rt_backend.simulator:starting free-running hardware simulation\n",
      "INFO:nengo_rt_backend.simulator:done, pausing\n"
     ]
    },
    {
     "name": "stdout",
     "output_type": "stream",
     "text": [
      "\n"
     ]
    }
   ],
   "source": [
    "if hardware:\n",
    "    print(\"Building hardware model\")\n",
    "    sim = nengo_rt_backend.Simulator(model, targetFile=\"/home/mtrberzi/nengo-rt-backend/target_1d2d.xml\")\n",
    "else:\n",
    "    print(\"Building software model\")\n",
    "    sim = nengo.Simulator(model)\n",
    "print(\"Running simulation\")\n",
    "sim.run(1)"
   ]
  },
  {
   "cell_type": "code",
   "execution_count": 7,
   "metadata": {
    "collapsed": false
   },
   "outputs": [
    {
     "name": "stdout",
     "output_type": "stream",
     "text": [
      "[[ 0.00189453  0.00307031]]\n"
     ]
    },
    {
     "data": {
      "image/png": "[encoded data removed]",
      "text/plain": [
       "<matplotlib.figure.Figure at 0x7fcfe08ab208>"
      ]
     },
     "metadata": {},
     "output_type": "display_data"
    }
   ],
   "source": [
    "plt.figure(figsize=(4*n_speeds, 4*n_dirs))\n",
    "means = np.zeros((n_dirs, n_speeds))\n",
    "for j in range(n_dirs):\n",
    "    for i in range(n_speeds):\n",
    "        ax = plt.subplot(n_dirs,n_speeds,(j*n_speeds)+i+1)\n",
    "        plt.plot(sim.trange(), sim.data(MT_probes[j][i]))\n",
    "        ax.set_ylim([-2,1.5])\n",
    "        means[j,i] = np.average(sim.data(MT_probes[j][i]))\n",
    "        \n",
    "print(means)"
   ]
  },
  {
   "cell_type": "code",
   "execution_count": 8,
   "metadata": {
    "collapsed": false
   },
   "outputs": [
    {
     "name": "stdout",
     "output_type": "stream",
     "text": [
      "[[ 0.00189453  0.00307031]]\n"
     ]
    }
   ],
   "source": [
    "print(means)"
   ]
  },
  {
   "cell_type": "code",
   "execution_count": 9,
   "metadata": {
    "collapsed": false
   },
   "outputs": [
    {
     "data": {
      "image/png": "[encoded data removed]",
      "text/plain": [
       "<matplotlib.figure.Figure at 0x7fcfe07dc7b8>"
      ]
     },
     "metadata": {},
     "output_type": "display_data"
    },
    {
     "data": {
      "image/png": "[encoded data removed]",
      "text/plain": [
       "<matplotlib.figure.Figure at 0x7fcfda116898>"
      ]
     },
     "metadata": {},
     "output_type": "display_data"
    }
   ],
   "source": [
    "# debugging code ... \n",
    "\n",
    "from scipy.signal import lfilter\n",
    "\n",
    "pop_ind = 0\n",
    "\n",
    "plt.figure(figsize=(4*n_speeds, 4*n_dirs))\n",
    "for j in range(n_dirs):\n",
    "    for i in range(n_speeds):\n",
    "        ax = plt.subplot(n_dirs,n_speeds,(j*n_speeds)+i+1)\n",
    "        plt.plot(sim.trange(), sim.data(V1_probes[pop_ind][j][i]))\n",
    "        ax.set_ylim([-1,1])\n",
    "\n",
    "\n",
    "plt.figure(figsize=(4*n_speeds, 4))\n",
    "for j in range(n_dirs):\n",
    "    colours = ('b', 'r')\n",
    "    for i in range(n_speeds):\n",
    "#         ax = plt.subplot(n_dirs,n_speeds,(j*n_speeds)+i+1)\n",
    "        ax = plt.subplot(1,n_speeds,i+1)\n",
    "        plt.plot(sim.data(V1_probes[pop_ind][j][i])[:,0], sim.data(V1_probes[pop_ind][j][i])[:,1], colours[j])\n",
    "        ax.set_xlim([-1,1])\n",
    "        ax.set_ylim([-1,1])\n"
   ]
  },
  {
   "cell_type": "code",
   "execution_count": 10,
   "metadata": {
    "collapsed": false
   },
   "outputs": [
    {
     "ename": "IndexError",
     "evalue": "list index out of range",
     "output_type": "error",
     "traceback": [
      "\u001b[1;31m---------------------------------------------------------------------------\u001b[0m",
      "\u001b[1;31mIndexError\u001b[0m                                Traceback (most recent call last)",
      "\u001b[1;32m<ipython-input-10-815650163bf4>\u001b[0m in \u001b[0;36m<module>\u001b[1;34m()\u001b[0m\n\u001b[0;32m      4\u001b[0m \u001b[1;33m\u001b[0m\u001b[0m\n\u001b[0;32m      5\u001b[0m \u001b[0mplt\u001b[0m\u001b[1;33m.\u001b[0m\u001b[0mfigure\u001b[0m\u001b[1;33m(\u001b[0m\u001b[0mfigsize\u001b[0m\u001b[1;33m=\u001b[0m\u001b[1;33m(\u001b[0m\u001b[1;36m6\u001b[0m\u001b[1;33m,\u001b[0m\u001b[1;36m6\u001b[0m\u001b[1;33m)\u001b[0m\u001b[1;33m)\u001b[0m\u001b[1;33m\u001b[0m\u001b[0m\n\u001b[1;32m----> 6\u001b[1;33m \u001b[0mplt\u001b[0m\u001b[1;33m.\u001b[0m\u001b[0mplot\u001b[0m\u001b[1;33m(\u001b[0m\u001b[0msim\u001b[0m\u001b[1;33m.\u001b[0m\u001b[0mtrange\u001b[0m\u001b[1;33m(\u001b[0m\u001b[1;33m)\u001b[0m\u001b[1;33m,\u001b[0m \u001b[0mnp\u001b[0m\u001b[1;33m.\u001b[0m\u001b[0msqueeze\u001b[0m\u001b[1;33m(\u001b[0m\u001b[0msim\u001b[0m\u001b[1;33m.\u001b[0m\u001b[0mdata\u001b[0m\u001b[1;33m(\u001b[0m\u001b[0mV1_nonlin_probes\u001b[0m\u001b[1;33m[\u001b[0m\u001b[0mpop_ind\u001b[0m\u001b[1;33m]\u001b[0m\u001b[1;33m[\u001b[0m\u001b[1;36m0\u001b[0m\u001b[1;33m]\u001b[0m\u001b[1;33m[\u001b[0m\u001b[0mspeed_ind\u001b[0m\u001b[1;33m]\u001b[0m\u001b[1;33m)\u001b[0m\u001b[1;33m)\u001b[0m\u001b[1;33m,\u001b[0m \u001b[1;34m'b'\u001b[0m\u001b[1;33m)\u001b[0m\u001b[1;33m\u001b[0m\u001b[0m\n\u001b[0m\u001b[0;32m      7\u001b[0m \u001b[0mplt\u001b[0m\u001b[1;33m.\u001b[0m\u001b[0mplot\u001b[0m\u001b[1;33m(\u001b[0m\u001b[0msim\u001b[0m\u001b[1;33m.\u001b[0m\u001b[0mtrange\u001b[0m\u001b[1;33m(\u001b[0m\u001b[1;33m)\u001b[0m\u001b[1;33m,\u001b[0m \u001b[0mnp\u001b[0m\u001b[1;33m.\u001b[0m\u001b[0msqueeze\u001b[0m\u001b[1;33m(\u001b[0m\u001b[0msim\u001b[0m\u001b[1;33m.\u001b[0m\u001b[0mdata\u001b[0m\u001b[1;33m(\u001b[0m\u001b[0mV1_nonlin_probes\u001b[0m\u001b[1;33m[\u001b[0m\u001b[0mpop_ind\u001b[0m\u001b[1;33m]\u001b[0m\u001b[1;33m[\u001b[0m\u001b[1;36m1\u001b[0m\u001b[1;33m]\u001b[0m\u001b[1;33m[\u001b[0m\u001b[0mspeed_ind\u001b[0m\u001b[1;33m]\u001b[0m\u001b[1;33m)\u001b[0m\u001b[1;33m)\u001b[0m\u001b[1;33m,\u001b[0m \u001b[1;34m'r'\u001b[0m\u001b[1;33m)\u001b[0m\u001b[1;33m\u001b[0m\u001b[0m\n\u001b[0;32m      8\u001b[0m \u001b[1;33m\u001b[0m\u001b[0m\n",
      "\u001b[1;31mIndexError\u001b[0m: list index out of range"
     ]
    },
    {
     "data": {
      "text/plain": [
       "<matplotlib.figure.Figure at 0x7fcfd996f358>"
      ]
     },
     "metadata": {},
     "output_type": "display_data"
    }
   ],
   "source": [
    "# more debugging code ... \n",
    "\n",
    "speed_ind = 0\n",
    "\n",
    "plt.figure(figsize=(6,6))\n",
    "plt.plot(sim.trange(), np.squeeze(sim.data(V1_nonlin_probes[pop_ind][0][speed_ind])), 'b')\n",
    "plt.plot(sim.trange(), np.squeeze(sim.data(V1_nonlin_probes[pop_ind][1][speed_ind])), 'r')\n",
    "                                                            \n",
    "foo = sim.data(V1_probes[pop_ind][1][speed_ind])\n",
    "bar = np.zeros(foo.shape[0])\n",
    "for i in range(foo.shape[0]): \n",
    "    bar[i] = V1_MT_fun(foo[i,:])\n",
    "  \n",
    "plt.plot(sim.trange(), bar, 'r.')\n"
   ]
  },
  {
   "cell_type": "code",
   "execution_count": null,
   "metadata": {
    "collapsed": false
   },
   "outputs": [],
   "source": [
    "foo = np.squeeze(inputs[6,:,0:1000])\n",
    "print(foo.shape)\n",
    "\n",
    "plt.plot(foo.T)"
   ]
  },
  {
   "cell_type": "code",
   "execution_count": null,
   "metadata": {
    "collapsed": true
   },
   "outputs": [],
   "source": []
  }
 ],
 "metadata": {
  "kernelspec": {
   "display_name": "Python 3",
   "language": "python",
   "name": "python3"
  },
  "language_info": {
   "codemirror_mode": {
    "name": "ipython",
    "version": 3
   },
   "file_extension": ".py",
   "mimetype": "text/x-python",
   "name": "python",
   "nbconvert_exporter": "python",
   "pygments_lexer": "ipython3",
   "version": "3.4.0"
  }
 },
 "nbformat": 4,
 "nbformat_minor": 0
}
